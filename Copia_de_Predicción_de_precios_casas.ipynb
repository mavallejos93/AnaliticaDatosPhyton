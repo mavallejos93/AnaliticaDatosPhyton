{
  "nbformat": 4,
  "nbformat_minor": 0,
  "metadata": {
    "colab": {
      "name": "Copia de Predicción_de_precios_casas.ipynb",
      "provenance": [],
      "include_colab_link": true
    },
    "kernelspec": {
      "name": "python3",
      "display_name": "Python 3"
    },
    "language_info": {
      "name": "python"
    }
  },
  "cells": [
    {
      "cell_type": "markdown",
      "metadata": {
        "id": "view-in-github",
        "colab_type": "text"
      },
      "source": [
        "<a href=\"https://colab.research.google.com/github/mavallejos93/AnaliticaDatosPhyton/blob/master/Copia_de_Predicci%C3%B3n_de_precios_casas.ipynb\" target=\"_parent\"><img src=\"https://colab.research.google.com/assets/colab-badge.svg\" alt=\"Open In Colab\"/></a>"
      ]
    },
    {
      "cell_type": "code",
      "metadata": {
        "id": "NtSJ7ICcDPkW"
      },
      "source": [
        "import pandas as pd"
      ],
      "execution_count": null,
      "outputs": []
    },
    {
      "cell_type": "markdown",
      "metadata": {
        "id": "KZESLl2rDf3Y"
      },
      "source": [
        "#1. Problema, predicir el precio promedio de una casa en california según las características del barrio\n",
        "\n",
        "- Variable a predicir: Precio promedio de una casa\n",
        "\n",
        "- Es un problema Regresión"
      ]
    },
    {
      "cell_type": "markdown",
      "metadata": {
        "id": "PF-LSlv0D88f"
      },
      "source": [
        "# 2. Cargar los datos y entender los datos"
      ]
    },
    {
      "cell_type": "code",
      "metadata": {
        "id": "GCqXFBAKD_G-"
      },
      "source": [
        "df = pd.read_csv(\"https://raw.githubusercontent.com/camilousa/datasets/master/housing.csv\")"
      ],
      "execution_count": null,
      "outputs": []
    },
    {
      "cell_type": "code",
      "metadata": {
        "colab": {
          "base_uri": "https://localhost:8080/",
          "height": 444
        },
        "id": "QYl5MwdPEBGJ",
        "outputId": "b7ca93c3-9e48-481c-ae4c-6152b9ceb266"
      },
      "source": [
        "df"
      ],
      "execution_count": null,
      "outputs": [
        {
          "output_type": "execute_result",
          "data": {
            "text/html": [
              "<div>\n",
              "<style scoped>\n",
              "    .dataframe tbody tr th:only-of-type {\n",
              "        vertical-align: middle;\n",
              "    }\n",
              "\n",
              "    .dataframe tbody tr th {\n",
              "        vertical-align: top;\n",
              "    }\n",
              "\n",
              "    .dataframe thead th {\n",
              "        text-align: right;\n",
              "    }\n",
              "</style>\n",
              "<table border=\"1\" class=\"dataframe\">\n",
              "  <thead>\n",
              "    <tr style=\"text-align: right;\">\n",
              "      <th></th>\n",
              "      <th>longitude</th>\n",
              "      <th>latitude</th>\n",
              "      <th>housing_median_age</th>\n",
              "      <th>total_rooms</th>\n",
              "      <th>total_bedrooms</th>\n",
              "      <th>population</th>\n",
              "      <th>households</th>\n",
              "      <th>median_income</th>\n",
              "      <th>median_house_value</th>\n",
              "      <th>ocean_proximity</th>\n",
              "    </tr>\n",
              "  </thead>\n",
              "  <tbody>\n",
              "    <tr>\n",
              "      <th>0</th>\n",
              "      <td>-122.23</td>\n",
              "      <td>37.88</td>\n",
              "      <td>41.0</td>\n",
              "      <td>880.0</td>\n",
              "      <td>129.0</td>\n",
              "      <td>322.0</td>\n",
              "      <td>126.0</td>\n",
              "      <td>8.3252</td>\n",
              "      <td>452600.0</td>\n",
              "      <td>NEAR BAY</td>\n",
              "    </tr>\n",
              "    <tr>\n",
              "      <th>1</th>\n",
              "      <td>-122.22</td>\n",
              "      <td>37.86</td>\n",
              "      <td>21.0</td>\n",
              "      <td>7099.0</td>\n",
              "      <td>1106.0</td>\n",
              "      <td>2401.0</td>\n",
              "      <td>1138.0</td>\n",
              "      <td>8.3014</td>\n",
              "      <td>358500.0</td>\n",
              "      <td>NEAR BAY</td>\n",
              "    </tr>\n",
              "    <tr>\n",
              "      <th>2</th>\n",
              "      <td>-122.24</td>\n",
              "      <td>37.85</td>\n",
              "      <td>52.0</td>\n",
              "      <td>1467.0</td>\n",
              "      <td>190.0</td>\n",
              "      <td>496.0</td>\n",
              "      <td>177.0</td>\n",
              "      <td>7.2574</td>\n",
              "      <td>352100.0</td>\n",
              "      <td>NEAR BAY</td>\n",
              "    </tr>\n",
              "    <tr>\n",
              "      <th>3</th>\n",
              "      <td>-122.25</td>\n",
              "      <td>37.85</td>\n",
              "      <td>52.0</td>\n",
              "      <td>1274.0</td>\n",
              "      <td>235.0</td>\n",
              "      <td>558.0</td>\n",
              "      <td>219.0</td>\n",
              "      <td>5.6431</td>\n",
              "      <td>341300.0</td>\n",
              "      <td>NEAR BAY</td>\n",
              "    </tr>\n",
              "    <tr>\n",
              "      <th>4</th>\n",
              "      <td>-122.25</td>\n",
              "      <td>37.85</td>\n",
              "      <td>52.0</td>\n",
              "      <td>1627.0</td>\n",
              "      <td>280.0</td>\n",
              "      <td>565.0</td>\n",
              "      <td>259.0</td>\n",
              "      <td>3.8462</td>\n",
              "      <td>342200.0</td>\n",
              "      <td>NEAR BAY</td>\n",
              "    </tr>\n",
              "    <tr>\n",
              "      <th>...</th>\n",
              "      <td>...</td>\n",
              "      <td>...</td>\n",
              "      <td>...</td>\n",
              "      <td>...</td>\n",
              "      <td>...</td>\n",
              "      <td>...</td>\n",
              "      <td>...</td>\n",
              "      <td>...</td>\n",
              "      <td>...</td>\n",
              "      <td>...</td>\n",
              "    </tr>\n",
              "    <tr>\n",
              "      <th>20635</th>\n",
              "      <td>-121.09</td>\n",
              "      <td>39.48</td>\n",
              "      <td>25.0</td>\n",
              "      <td>1665.0</td>\n",
              "      <td>374.0</td>\n",
              "      <td>845.0</td>\n",
              "      <td>330.0</td>\n",
              "      <td>1.5603</td>\n",
              "      <td>78100.0</td>\n",
              "      <td>INLAND</td>\n",
              "    </tr>\n",
              "    <tr>\n",
              "      <th>20636</th>\n",
              "      <td>-121.21</td>\n",
              "      <td>39.49</td>\n",
              "      <td>18.0</td>\n",
              "      <td>697.0</td>\n",
              "      <td>150.0</td>\n",
              "      <td>356.0</td>\n",
              "      <td>114.0</td>\n",
              "      <td>2.5568</td>\n",
              "      <td>77100.0</td>\n",
              "      <td>INLAND</td>\n",
              "    </tr>\n",
              "    <tr>\n",
              "      <th>20637</th>\n",
              "      <td>-121.22</td>\n",
              "      <td>39.43</td>\n",
              "      <td>17.0</td>\n",
              "      <td>2254.0</td>\n",
              "      <td>485.0</td>\n",
              "      <td>1007.0</td>\n",
              "      <td>433.0</td>\n",
              "      <td>1.7000</td>\n",
              "      <td>92300.0</td>\n",
              "      <td>INLAND</td>\n",
              "    </tr>\n",
              "    <tr>\n",
              "      <th>20638</th>\n",
              "      <td>-121.32</td>\n",
              "      <td>39.43</td>\n",
              "      <td>18.0</td>\n",
              "      <td>1860.0</td>\n",
              "      <td>409.0</td>\n",
              "      <td>741.0</td>\n",
              "      <td>349.0</td>\n",
              "      <td>1.8672</td>\n",
              "      <td>84700.0</td>\n",
              "      <td>INLAND</td>\n",
              "    </tr>\n",
              "    <tr>\n",
              "      <th>20639</th>\n",
              "      <td>-121.24</td>\n",
              "      <td>39.37</td>\n",
              "      <td>16.0</td>\n",
              "      <td>2785.0</td>\n",
              "      <td>616.0</td>\n",
              "      <td>1387.0</td>\n",
              "      <td>530.0</td>\n",
              "      <td>2.3886</td>\n",
              "      <td>89400.0</td>\n",
              "      <td>INLAND</td>\n",
              "    </tr>\n",
              "  </tbody>\n",
              "</table>\n",
              "<p>20640 rows × 10 columns</p>\n",
              "</div>"
            ],
            "text/plain": [
              "       longitude  latitude  ...  median_house_value  ocean_proximity\n",
              "0        -122.23     37.88  ...            452600.0         NEAR BAY\n",
              "1        -122.22     37.86  ...            358500.0         NEAR BAY\n",
              "2        -122.24     37.85  ...            352100.0         NEAR BAY\n",
              "3        -122.25     37.85  ...            341300.0         NEAR BAY\n",
              "4        -122.25     37.85  ...            342200.0         NEAR BAY\n",
              "...          ...       ...  ...                 ...              ...\n",
              "20635    -121.09     39.48  ...             78100.0           INLAND\n",
              "20636    -121.21     39.49  ...             77100.0           INLAND\n",
              "20637    -121.22     39.43  ...             92300.0           INLAND\n",
              "20638    -121.32     39.43  ...             84700.0           INLAND\n",
              "20639    -121.24     39.37  ...             89400.0           INLAND\n",
              "\n",
              "[20640 rows x 10 columns]"
            ]
          },
          "metadata": {},
          "execution_count": 4
        }
      ]
    },
    {
      "cell_type": "code",
      "metadata": {
        "id": "Td2BO-ksHoO5"
      },
      "source": [
        ""
      ],
      "execution_count": null,
      "outputs": []
    },
    {
      "cell_type": "markdown",
      "metadata": {
        "id": "lBQqOzUlHopv"
      },
      "source": [
        "#3. Dividir el conjunto de datos en entrenamiento y pruebas"
      ]
    },
    {
      "cell_type": "code",
      "metadata": {
        "id": "aAqCLDjsHtWL"
      },
      "source": [
        "from sklearn.model_selection import train_test_split"
      ],
      "execution_count": null,
      "outputs": []
    },
    {
      "cell_type": "code",
      "metadata": {
        "id": "5RUMO3YeH0L0"
      },
      "source": [
        "train, test = train_test_split(df, test_size=0.3, random_state=12) # 30% para pruebas y 70% para entrenar"
      ],
      "execution_count": null,
      "outputs": []
    },
    {
      "cell_type": "code",
      "metadata": {
        "colab": {
          "base_uri": "https://localhost:8080/"
        },
        "id": "8nJZ602NIG_c",
        "outputId": "e358d660-cb61-43e7-8365-34b64037dfd6"
      },
      "source": [
        "df.shape"
      ],
      "execution_count": null,
      "outputs": [
        {
          "output_type": "execute_result",
          "data": {
            "text/plain": [
              "(20640, 10)"
            ]
          },
          "metadata": {},
          "execution_count": 7
        }
      ]
    },
    {
      "cell_type": "code",
      "metadata": {
        "colab": {
          "base_uri": "https://localhost:8080/"
        },
        "id": "Y7zvTtoXIRBy",
        "outputId": "877a0d8b-e1a2-4ccf-8cd0-e4118e5ffe0d"
      },
      "source": [
        "train.shape"
      ],
      "execution_count": null,
      "outputs": [
        {
          "output_type": "execute_result",
          "data": {
            "text/plain": [
              "(14448, 10)"
            ]
          },
          "metadata": {},
          "execution_count": 9
        }
      ]
    },
    {
      "cell_type": "code",
      "metadata": {
        "colab": {
          "base_uri": "https://localhost:8080/"
        },
        "id": "YndXSAcMIU4U",
        "outputId": "3d57c430-e166-40a2-c825-2cda39e7a1f2"
      },
      "source": [
        "test.shape"
      ],
      "execution_count": null,
      "outputs": [
        {
          "output_type": "execute_result",
          "data": {
            "text/plain": [
              "(6192, 10)"
            ]
          },
          "metadata": {},
          "execution_count": 10
        }
      ]
    },
    {
      "cell_type": "code",
      "metadata": {
        "colab": {
          "base_uri": "https://localhost:8080/"
        },
        "id": "b2-jN5hxIVzT",
        "outputId": "6e6251ce-79aa-489c-aa85-55deeb1c3a57"
      },
      "source": [
        "train[['housing_median_age', 'population', 'median_income']].mean()"
      ],
      "execution_count": null,
      "outputs": [
        {
          "output_type": "execute_result",
          "data": {
            "text/plain": [
              "housing_median_age      28.629499\n",
              "population            1422.771249\n",
              "median_income            3.867494\n",
              "dtype: float64"
            ]
          },
          "metadata": {},
          "execution_count": 12
        }
      ]
    },
    {
      "cell_type": "code",
      "metadata": {
        "colab": {
          "base_uri": "https://localhost:8080/"
        },
        "id": "D1VRCwYHI7Yo",
        "outputId": "433eeb20-ce95-49a3-daf4-e61576cd1804"
      },
      "source": [
        "test[['housing_median_age', 'population', 'median_income']].mean()"
      ],
      "execution_count": null,
      "outputs": [
        {
          "output_type": "execute_result",
          "data": {
            "text/plain": [
              "housing_median_age      28.662791\n",
              "population            1431.789567\n",
              "median_income            3.878084\n",
              "dtype: float64"
            ]
          },
          "metadata": {},
          "execution_count": 13
        }
      ]
    },
    {
      "cell_type": "code",
      "metadata": {
        "id": "GS07OVw3JQo6"
      },
      "source": [
        ""
      ],
      "execution_count": null,
      "outputs": []
    },
    {
      "cell_type": "markdown",
      "metadata": {
        "id": "m2v_glxNJREB"
      },
      "source": [
        "#4.Exploración y visualización de datos (usar obligatoriamente train)"
      ]
    },
    {
      "cell_type": "code",
      "metadata": {
        "id": "5VE0805YJXni"
      },
      "source": [
        "import matplotlib.pyplot as plt"
      ],
      "execution_count": null,
      "outputs": []
    },
    {
      "cell_type": "code",
      "metadata": {
        "colab": {
          "base_uri": "https://localhost:8080/",
          "height": 286
        },
        "id": "LBQeP4neQJRd",
        "outputId": "8ff30c77-0359-4b0b-f295-c9cfdfaf9ddb"
      },
      "source": [
        "plt.scatter(train['longitude'], train['latitude'],\n",
        "            c=train['median_house_value'])\n",
        "plt.colorbar()\n",
        "\n"
      ],
      "execution_count": null,
      "outputs": [
        {
          "output_type": "execute_result",
          "data": {
            "text/plain": [
              "<matplotlib.colorbar.Colorbar at 0x7f702656c3d0>"
            ]
          },
          "metadata": {},
          "execution_count": 17
        },
        {
          "output_type": "display_data",
          "data": {
            "image/png": "[encoded data removed]",
            "text/plain": [
              "<Figure size 432x288 with 2 Axes>"
            ]
          },
          "metadata": {
            "needs_background": "light"
          }
        }
      ]
    },
    {
      "cell_type": "code",
      "metadata": {
        "colab": {
          "base_uri": "https://localhost:8080/"
        },
        "id": "Wo717X4XSlXq",
        "outputId": "57a73897-6fd8-49eb-e187-d176976b0663"
      },
      "source": [
        "train.groupby(by='ocean_proximity')['median_house_value'].mean().sort_values()"
      ],
      "execution_count": null,
      "outputs": [
        {
          "output_type": "execute_result",
          "data": {
            "text/plain": [
              "ocean_proximity\n",
              "INLAND        124444.024697\n",
              "<1H OCEAN     239552.481678\n",
              "NEAR OCEAN    251238.100492\n",
              "NEAR BAY      259761.509470\n",
              "ISLAND        400550.000000\n",
              "Name: median_house_value, dtype: float64"
            ]
          },
          "metadata": {},
          "execution_count": 20
        }
      ]
    },
    {
      "cell_type": "code",
      "metadata": {
        "colab": {
          "base_uri": "https://localhost:8080/",
          "height": 282
        },
        "id": "tjS_OOg1Sw2x",
        "outputId": "f82ac0f3-5383-4a24-c771-8a915471dc30"
      },
      "source": [
        "plt.scatter(train['total_bedrooms'], train['median_house_value'])"
      ],
      "execution_count": null,
      "outputs": [
        {
          "output_type": "execute_result",
          "data": {
            "text/plain": [
              "<matplotlib.collections.PathCollection at 0x7f70282b07d0>"
            ]
          },
          "metadata": {},
          "execution_count": 22
        },
        {
          "output_type": "display_data",
          "data": {
            "image/png": "[encoded data removed]",
            "text/plain": [
              "<Figure size 432x288 with 1 Axes>"
            ]
          },
          "metadata": {
            "needs_background": "light"
          }
        }
      ]
    },
    {
      "cell_type": "code",
      "metadata": {
        "colab": {
          "base_uri": "https://localhost:8080/"
        },
        "id": "czU9-NJGTnGZ",
        "outputId": "84a37643-f357-4520-c13a-942ece4d165d"
      },
      "source": [
        "train['avg_bed_rooms'] = train['total_bedrooms']/train['households']"
      ],
      "execution_count": null,
      "outputs": [
        {
          "output_type": "stream",
          "name": "stderr",
          "text": [
            "/usr/local/lib/python3.7/dist-packages/ipykernel_launcher.py:1: SettingWithCopyWarning: \n",
            "A value is trying to be set on a copy of a slice from a DataFrame.\n",
            "Try using .loc[row_indexer,col_indexer] = value instead\n",
            "\n",
            "See the caveats in the documentation: https://pandas.pydata.org/pandas-docs/stable/user_guide/indexing.html#returning-a-view-versus-a-copy\n",
            "  \"\"\"Entry point for launching an IPython kernel.\n"
          ]
        }
      ]
    },
    {
      "cell_type": "code",
      "metadata": {
        "colab": {
          "base_uri": "https://localhost:8080/",
          "height": 282
        },
        "id": "48-FzACyUL_s",
        "outputId": "8d5f110f-bb97-4507-ad58-d0c030980e4b"
      },
      "source": [
        "plt.scatter(train['avg_bed_rooms'], train['median_house_value'] )"
      ],
      "execution_count": null,
      "outputs": [
        {
          "output_type": "execute_result",
          "data": {
            "text/plain": [
              "<matplotlib.collections.PathCollection at 0x7f7025126ad0>"
            ]
          },
          "metadata": {},
          "execution_count": 28
        },
        {
          "output_type": "display_data",
          "data": {
            "image/png": "[encoded data removed]",
            "text/plain": [
              "<Figure size 432x288 with 1 Axes>"
            ]
          },
          "metadata": {
            "needs_background": "light"
          }
        }
      ]
    },
    {
      "cell_type": "code",
      "metadata": {
        "colab": {
          "base_uri": "https://localhost:8080/",
          "height": 282
        },
        "id": "h1qHLPo5XN9Y",
        "outputId": "3b0508ec-a863-4cd1-f48e-786138bc902f"
      },
      "source": [
        "plt.scatter(train['median_income'], train['median_house_value'] )"
      ],
      "execution_count": null,
      "outputs": [
        {
          "output_type": "execute_result",
          "data": {
            "text/plain": [
              "<matplotlib.collections.PathCollection at 0x7f7025076f10>"
            ]
          },
          "metadata": {},
          "execution_count": 30
        },
        {
          "output_type": "display_data",
          "data": {
            "image/png": "[encoded data removed]",
            "text/plain": [
              "<Figure size 432x288 with 1 Axes>"
            ]
          },
          "metadata": {
            "needs_background": "light"
          }
        }
      ]
    },
    {
      "cell_type": "code",
      "metadata": {
        "colab": {
          "base_uri": "https://localhost:8080/",
          "height": 282
        },
        "id": "PXmUH-eBXUsg",
        "outputId": "b2e7ffac-6fe0-4521-f842-16225b0aa032"
      },
      "source": [
        "plt.scatter(train['population'], train['median_house_value'] )"
      ],
      "execution_count": null,
      "outputs": [
        {
          "output_type": "execute_result",
          "data": {
            "text/plain": [
              "<matplotlib.collections.PathCollection at 0x7f7024ef6f10>"
            ]
          },
          "metadata": {},
          "execution_count": 32
        },
        {
          "output_type": "display_data",
          "data": {
            "image/png": "[encoded data removed]",
            "text/plain": [
              "<Figure size 432x288 with 1 Axes>"
            ]
          },
          "metadata": {
            "needs_background": "light"
          }
        }
      ]
    },
    {
      "cell_type": "code",
      "metadata": {
        "colab": {
          "base_uri": "https://localhost:8080/"
        },
        "id": "BlCiVBc-YJuS",
        "outputId": "ec01ba75-61a7-49f3-aaf9-a7cd75bd505e"
      },
      "source": [
        "train['avg_people'] = train['population']/train['households']"
      ],
      "execution_count": null,
      "outputs": [
        {
          "output_type": "stream",
          "name": "stderr",
          "text": [
            "/usr/local/lib/python3.7/dist-packages/ipykernel_launcher.py:1: SettingWithCopyWarning: \n",
            "A value is trying to be set on a copy of a slice from a DataFrame.\n",
            "Try using .loc[row_indexer,col_indexer] = value instead\n",
            "\n",
            "See the caveats in the documentation: https://pandas.pydata.org/pandas-docs/stable/user_guide/indexing.html#returning-a-view-versus-a-copy\n",
            "  \"\"\"Entry point for launching an IPython kernel.\n"
          ]
        }
      ]
    },
    {
      "cell_type": "code",
      "metadata": {
        "colab": {
          "base_uri": "https://localhost:8080/",
          "height": 282
        },
        "id": "Yzfx77RuYbuX",
        "outputId": "604b9b5b-cc41-4420-f5a7-b88cc721dbcf"
      },
      "source": [
        "plt.scatter(train['housing_median_age'], train['median_house_value'] )"
      ],
      "execution_count": null,
      "outputs": [
        {
          "output_type": "execute_result",
          "data": {
            "text/plain": [
              "<matplotlib.collections.PathCollection at 0x7f7024db6a50>"
            ]
          },
          "metadata": {},
          "execution_count": 37
        },
        {
          "output_type": "display_data",
          "data": {
            "image/png": "[encoded data removed]",
            "text/plain": [
              "<Figure size 432x288 with 1 Axes>"
            ]
          },
          "metadata": {
            "needs_background": "light"
          }
        }
      ]
    },
    {
      "cell_type": "markdown",
      "metadata": {
        "id": "dbrUiVtAZJde"
      },
      "source": [
        "#5. Preprocesamiento de los datos\n"
      ]
    },
    {
      "cell_type": "code",
      "metadata": {
        "colab": {
          "base_uri": "https://localhost:8080/",
          "height": 444
        },
        "id": "L3NYeq1wZS8u",
        "outputId": "7a23be58-08b0-4c2f-9863-825d4a290700"
      },
      "source": [
        "train"
      ],
      "execution_count": null,
      "outputs": [
        {
          "output_type": "execute_result",
          "data": {
            "text/html": [
              "<div>\n",
              "<style scoped>\n",
              "    .dataframe tbody tr th:only-of-type {\n",
              "        vertical-align: middle;\n",
              "    }\n",
              "\n",
              "    .dataframe tbody tr th {\n",
              "        vertical-align: top;\n",
              "    }\n",
              "\n",
              "    .dataframe thead th {\n",
              "        text-align: right;\n",
              "    }\n",
              "</style>\n",
              "<table border=\"1\" class=\"dataframe\">\n",
              "  <thead>\n",
              "    <tr style=\"text-align: right;\">\n",
              "      <th></th>\n",
              "      <th>longitude</th>\n",
              "      <th>latitude</th>\n",
              "      <th>housing_median_age</th>\n",
              "      <th>total_rooms</th>\n",
              "      <th>total_bedrooms</th>\n",
              "      <th>population</th>\n",
              "      <th>households</th>\n",
              "      <th>median_income</th>\n",
              "      <th>median_house_value</th>\n",
              "      <th>ocean_proximity</th>\n",
              "      <th>avg_bed_rooms</th>\n",
              "      <th>avg_people</th>\n",
              "    </tr>\n",
              "  </thead>\n",
              "  <tbody>\n",
              "    <tr>\n",
              "      <th>5281</th>\n",
              "      <td>-118.49</td>\n",
              "      <td>34.05</td>\n",
              "      <td>42.0</td>\n",
              "      <td>1918.0</td>\n",
              "      <td>216.0</td>\n",
              "      <td>632.0</td>\n",
              "      <td>224.0</td>\n",
              "      <td>15.0001</td>\n",
              "      <td>500001.0</td>\n",
              "      <td>&lt;1H OCEAN</td>\n",
              "      <td>0.964286</td>\n",
              "      <td>2.821429</td>\n",
              "    </tr>\n",
              "    <tr>\n",
              "      <th>11596</th>\n",
              "      <td>-118.08</td>\n",
              "      <td>33.79</td>\n",
              "      <td>34.0</td>\n",
              "      <td>2840.0</td>\n",
              "      <td>395.0</td>\n",
              "      <td>1127.0</td>\n",
              "      <td>396.0</td>\n",
              "      <td>7.6144</td>\n",
              "      <td>376200.0</td>\n",
              "      <td>&lt;1H OCEAN</td>\n",
              "      <td>0.997475</td>\n",
              "      <td>2.845960</td>\n",
              "    </tr>\n",
              "    <tr>\n",
              "      <th>12808</th>\n",
              "      <td>-121.47</td>\n",
              "      <td>38.63</td>\n",
              "      <td>29.0</td>\n",
              "      <td>2197.0</td>\n",
              "      <td>520.0</td>\n",
              "      <td>1374.0</td>\n",
              "      <td>483.0</td>\n",
              "      <td>2.1889</td>\n",
              "      <td>69300.0</td>\n",
              "      <td>INLAND</td>\n",
              "      <td>1.076605</td>\n",
              "      <td>2.844720</td>\n",
              "    </tr>\n",
              "    <tr>\n",
              "      <th>9591</th>\n",
              "      <td>-120.45</td>\n",
              "      <td>37.32</td>\n",
              "      <td>21.0</td>\n",
              "      <td>1318.0</td>\n",
              "      <td>202.0</td>\n",
              "      <td>618.0</td>\n",
              "      <td>197.0</td>\n",
              "      <td>4.8214</td>\n",
              "      <td>117800.0</td>\n",
              "      <td>INLAND</td>\n",
              "      <td>1.025381</td>\n",
              "      <td>3.137056</td>\n",
              "    </tr>\n",
              "    <tr>\n",
              "      <th>15824</th>\n",
              "      <td>-122.42</td>\n",
              "      <td>37.75</td>\n",
              "      <td>52.0</td>\n",
              "      <td>1974.0</td>\n",
              "      <td>525.0</td>\n",
              "      <td>935.0</td>\n",
              "      <td>465.0</td>\n",
              "      <td>2.7173</td>\n",
              "      <td>300000.0</td>\n",
              "      <td>NEAR BAY</td>\n",
              "      <td>1.129032</td>\n",
              "      <td>2.010753</td>\n",
              "    </tr>\n",
              "    <tr>\n",
              "      <th>...</th>\n",
              "      <td>...</td>\n",
              "      <td>...</td>\n",
              "      <td>...</td>\n",
              "      <td>...</td>\n",
              "      <td>...</td>\n",
              "      <td>...</td>\n",
              "      <td>...</td>\n",
              "      <td>...</td>\n",
              "      <td>...</td>\n",
              "      <td>...</td>\n",
              "      <td>...</td>\n",
              "      <td>...</td>\n",
              "    </tr>\n",
              "    <tr>\n",
              "      <th>3714</th>\n",
              "      <td>-118.40</td>\n",
              "      <td>34.19</td>\n",
              "      <td>35.0</td>\n",
              "      <td>2180.0</td>\n",
              "      <td>599.0</td>\n",
              "      <td>1483.0</td>\n",
              "      <td>574.0</td>\n",
              "      <td>3.0395</td>\n",
              "      <td>191300.0</td>\n",
              "      <td>&lt;1H OCEAN</td>\n",
              "      <td>1.043554</td>\n",
              "      <td>2.583624</td>\n",
              "    </tr>\n",
              "    <tr>\n",
              "      <th>7409</th>\n",
              "      <td>-118.22</td>\n",
              "      <td>33.96</td>\n",
              "      <td>42.0</td>\n",
              "      <td>1380.0</td>\n",
              "      <td>331.0</td>\n",
              "      <td>1290.0</td>\n",
              "      <td>288.0</td>\n",
              "      <td>2.8000</td>\n",
              "      <td>161800.0</td>\n",
              "      <td>&lt;1H OCEAN</td>\n",
              "      <td>1.149306</td>\n",
              "      <td>4.479167</td>\n",
              "    </tr>\n",
              "    <tr>\n",
              "      <th>19709</th>\n",
              "      <td>-121.63</td>\n",
              "      <td>39.18</td>\n",
              "      <td>13.0</td>\n",
              "      <td>1907.0</td>\n",
              "      <td>347.0</td>\n",
              "      <td>821.0</td>\n",
              "      <td>367.0</td>\n",
              "      <td>2.0978</td>\n",
              "      <td>134000.0</td>\n",
              "      <td>INLAND</td>\n",
              "      <td>0.945504</td>\n",
              "      <td>2.237057</td>\n",
              "    </tr>\n",
              "    <tr>\n",
              "      <th>5787</th>\n",
              "      <td>-118.24</td>\n",
              "      <td>34.15</td>\n",
              "      <td>19.0</td>\n",
              "      <td>4852.0</td>\n",
              "      <td>1465.0</td>\n",
              "      <td>3171.0</td>\n",
              "      <td>1332.0</td>\n",
              "      <td>2.5924</td>\n",
              "      <td>192900.0</td>\n",
              "      <td>&lt;1H OCEAN</td>\n",
              "      <td>1.099850</td>\n",
              "      <td>2.380631</td>\n",
              "    </tr>\n",
              "    <tr>\n",
              "      <th>14155</th>\n",
              "      <td>-117.07</td>\n",
              "      <td>32.77</td>\n",
              "      <td>38.0</td>\n",
              "      <td>3779.0</td>\n",
              "      <td>614.0</td>\n",
              "      <td>1495.0</td>\n",
              "      <td>614.0</td>\n",
              "      <td>4.3529</td>\n",
              "      <td>184000.0</td>\n",
              "      <td>NEAR OCEAN</td>\n",
              "      <td>1.000000</td>\n",
              "      <td>2.434853</td>\n",
              "    </tr>\n",
              "  </tbody>\n",
              "</table>\n",
              "<p>14448 rows × 12 columns</p>\n",
              "</div>"
            ],
            "text/plain": [
              "       longitude  latitude  ...  avg_bed_rooms  avg_people\n",
              "5281     -118.49     34.05  ...       0.964286    2.821429\n",
              "11596    -118.08     33.79  ...       0.997475    2.845960\n",
              "12808    -121.47     38.63  ...       1.076605    2.844720\n",
              "9591     -120.45     37.32  ...       1.025381    3.137056\n",
              "15824    -122.42     37.75  ...       1.129032    2.010753\n",
              "...          ...       ...  ...            ...         ...\n",
              "3714     -118.40     34.19  ...       1.043554    2.583624\n",
              "7409     -118.22     33.96  ...       1.149306    4.479167\n",
              "19709    -121.63     39.18  ...       0.945504    2.237057\n",
              "5787     -118.24     34.15  ...       1.099850    2.380631\n",
              "14155    -117.07     32.77  ...       1.000000    2.434853\n",
              "\n",
              "[14448 rows x 12 columns]"
            ]
          },
          "metadata": {},
          "execution_count": 38
        }
      ]
    },
    {
      "cell_type": "markdown",
      "metadata": {
        "id": "PwonUOyhZcnz"
      },
      "source": [
        "## 5.1 Limpieza de datos (datos faltantes, eliminar outliers, eliminar datos poco confiables o significativos)"
      ]
    },
    {
      "cell_type": "code",
      "metadata": {
        "colab": {
          "base_uri": "https://localhost:8080/",
          "height": 320
        },
        "id": "Dr10E9whZzN7",
        "outputId": "328e9c91-9bf5-4855-b454-0dfe5b2d7889"
      },
      "source": [
        "train.describe()"
      ],
      "execution_count": null,
      "outputs": [
        {
          "output_type": "execute_result",
          "data": {
            "text/html": [
              "<div>\n",
              "<style scoped>\n",
              "    .dataframe tbody tr th:only-of-type {\n",
              "        vertical-align: middle;\n",
              "    }\n",
              "\n",
              "    .dataframe tbody tr th {\n",
              "        vertical-align: top;\n",
              "    }\n",
              "\n",
              "    .dataframe thead th {\n",
              "        text-align: right;\n",
              "    }\n",
              "</style>\n",
              "<table border=\"1\" class=\"dataframe\">\n",
              "  <thead>\n",
              "    <tr style=\"text-align: right;\">\n",
              "      <th></th>\n",
              "      <th>longitude</th>\n",
              "      <th>latitude</th>\n",
              "      <th>housing_median_age</th>\n",
              "      <th>total_rooms</th>\n",
              "      <th>total_bedrooms</th>\n",
              "      <th>population</th>\n",
              "      <th>households</th>\n",
              "      <th>median_income</th>\n",
              "      <th>median_house_value</th>\n",
              "      <th>avg_bed_rooms</th>\n",
              "      <th>avg_people</th>\n",
              "    </tr>\n",
              "  </thead>\n",
              "  <tbody>\n",
              "    <tr>\n",
              "      <th>count</th>\n",
              "      <td>14448.000000</td>\n",
              "      <td>14448.000000</td>\n",
              "      <td>14448.000000</td>\n",
              "      <td>14448.000000</td>\n",
              "      <td>14300.000000</td>\n",
              "      <td>14448.000000</td>\n",
              "      <td>14448.000000</td>\n",
              "      <td>14448.000000</td>\n",
              "      <td>14448.000000</td>\n",
              "      <td>14300.000000</td>\n",
              "      <td>14448.000000</td>\n",
              "    </tr>\n",
              "    <tr>\n",
              "      <th>mean</th>\n",
              "      <td>-119.573272</td>\n",
              "      <td>35.637887</td>\n",
              "      <td>28.629499</td>\n",
              "      <td>2642.700166</td>\n",
              "      <td>539.679231</td>\n",
              "      <td>1422.771249</td>\n",
              "      <td>500.495293</td>\n",
              "      <td>3.867494</td>\n",
              "      <td>206517.516334</td>\n",
              "      <td>1.100786</td>\n",
              "      <td>3.119259</td>\n",
              "    </tr>\n",
              "    <tr>\n",
              "      <th>std</th>\n",
              "      <td>2.002041</td>\n",
              "      <td>2.137198</td>\n",
              "      <td>12.573097</td>\n",
              "      <td>2160.562872</td>\n",
              "      <td>419.502797</td>\n",
              "      <td>1081.120079</td>\n",
              "      <td>380.176392</td>\n",
              "      <td>1.886384</td>\n",
              "      <td>115243.906333</td>\n",
              "      <td>0.528253</td>\n",
              "      <td>12.383559</td>\n",
              "    </tr>\n",
              "    <tr>\n",
              "      <th>min</th>\n",
              "      <td>-124.300000</td>\n",
              "      <td>32.540000</td>\n",
              "      <td>1.000000</td>\n",
              "      <td>2.000000</td>\n",
              "      <td>1.000000</td>\n",
              "      <td>3.000000</td>\n",
              "      <td>1.000000</td>\n",
              "      <td>0.499900</td>\n",
              "      <td>14999.000000</td>\n",
              "      <td>0.375000</td>\n",
              "      <td>0.692308</td>\n",
              "    </tr>\n",
              "    <tr>\n",
              "      <th>25%</th>\n",
              "      <td>-121.790000</td>\n",
              "      <td>33.940000</td>\n",
              "      <td>18.000000</td>\n",
              "      <td>1461.000000</td>\n",
              "      <td>298.000000</td>\n",
              "      <td>793.000000</td>\n",
              "      <td>281.000000</td>\n",
              "      <td>2.566700</td>\n",
              "      <td>119400.000000</td>\n",
              "      <td>1.005857</td>\n",
              "      <td>2.426824</td>\n",
              "    </tr>\n",
              "    <tr>\n",
              "      <th>50%</th>\n",
              "      <td>-118.505000</td>\n",
              "      <td>34.260000</td>\n",
              "      <td>29.000000</td>\n",
              "      <td>2151.000000</td>\n",
              "      <td>438.000000</td>\n",
              "      <td>1172.000000</td>\n",
              "      <td>412.000000</td>\n",
              "      <td>3.536450</td>\n",
              "      <td>179500.000000</td>\n",
              "      <td>1.049409</td>\n",
              "      <td>2.817295</td>\n",
              "    </tr>\n",
              "    <tr>\n",
              "      <th>75%</th>\n",
              "      <td>-118.010000</td>\n",
              "      <td>37.720000</td>\n",
              "      <td>37.000000</td>\n",
              "      <td>3163.000000</td>\n",
              "      <td>652.000000</td>\n",
              "      <td>1729.000000</td>\n",
              "      <td>607.000000</td>\n",
              "      <td>4.733800</td>\n",
              "      <td>264325.000000</td>\n",
              "      <td>1.100228</td>\n",
              "      <td>3.276113</td>\n",
              "    </tr>\n",
              "    <tr>\n",
              "      <th>max</th>\n",
              "      <td>-114.310000</td>\n",
              "      <td>41.950000</td>\n",
              "      <td>52.000000</td>\n",
              "      <td>39320.000000</td>\n",
              "      <td>6210.000000</td>\n",
              "      <td>16305.000000</td>\n",
              "      <td>5358.000000</td>\n",
              "      <td>15.000100</td>\n",
              "      <td>500001.000000</td>\n",
              "      <td>34.066667</td>\n",
              "      <td>1243.333333</td>\n",
              "    </tr>\n",
              "  </tbody>\n",
              "</table>\n",
              "</div>"
            ],
            "text/plain": [
              "          longitude      latitude  ...  avg_bed_rooms    avg_people\n",
              "count  14448.000000  14448.000000  ...   14300.000000  14448.000000\n",
              "mean    -119.573272     35.637887  ...       1.100786      3.119259\n",
              "std        2.002041      2.137198  ...       0.528253     12.383559\n",
              "min     -124.300000     32.540000  ...       0.375000      0.692308\n",
              "25%     -121.790000     33.940000  ...       1.005857      2.426824\n",
              "50%     -118.505000     34.260000  ...       1.049409      2.817295\n",
              "75%     -118.010000     37.720000  ...       1.100228      3.276113\n",
              "max     -114.310000     41.950000  ...      34.066667   1243.333333\n",
              "\n",
              "[8 rows x 11 columns]"
            ]
          },
          "metadata": {},
          "execution_count": 39
        }
      ]
    },
    {
      "cell_type": "markdown",
      "metadata": {
        "id": "3f4SEzE9bO7-"
      },
      "source": [
        "opción 1: Eliminar columna"
      ]
    },
    {
      "cell_type": "code",
      "metadata": {
        "colab": {
          "base_uri": "https://localhost:8080/",
          "height": 320
        },
        "id": "xFNaTRELbUKk",
        "outputId": "97e24bd4-59e2-4e3f-9176-540cf1b1a21c"
      },
      "source": [
        "train.drop(['total_bedrooms', 'avg_bed_rooms'], axis=1).describe()"
      ],
      "execution_count": null,
      "outputs": [
        {
          "output_type": "execute_result",
          "data": {
            "text/html": [
              "<div>\n",
              "<style scoped>\n",
              "    .dataframe tbody tr th:only-of-type {\n",
              "        vertical-align: middle;\n",
              "    }\n",
              "\n",
              "    .dataframe tbody tr th {\n",
              "        vertical-align: top;\n",
              "    }\n",
              "\n",
              "    .dataframe thead th {\n",
              "        text-align: right;\n",
              "    }\n",
              "</style>\n",
              "<table border=\"1\" class=\"dataframe\">\n",
              "  <thead>\n",
              "    <tr style=\"text-align: right;\">\n",
              "      <th></th>\n",
              "      <th>longitude</th>\n",
              "      <th>latitude</th>\n",
              "      <th>housing_median_age</th>\n",
              "      <th>total_rooms</th>\n",
              "      <th>population</th>\n",
              "      <th>households</th>\n",
              "      <th>median_income</th>\n",
              "      <th>median_house_value</th>\n",
              "      <th>avg_people</th>\n",
              "    </tr>\n",
              "  </thead>\n",
              "  <tbody>\n",
              "    <tr>\n",
              "      <th>count</th>\n",
              "      <td>14448.000000</td>\n",
              "      <td>14448.000000</td>\n",
              "      <td>14448.000000</td>\n",
              "      <td>14448.000000</td>\n",
              "      <td>14448.000000</td>\n",
              "      <td>14448.000000</td>\n",
              "      <td>14448.000000</td>\n",
              "      <td>14448.000000</td>\n",
              "      <td>14448.000000</td>\n",
              "    </tr>\n",
              "    <tr>\n",
              "      <th>mean</th>\n",
              "      <td>-119.573272</td>\n",
              "      <td>35.637887</td>\n",
              "      <td>28.629499</td>\n",
              "      <td>2642.700166</td>\n",
              "      <td>1422.771249</td>\n",
              "      <td>500.495293</td>\n",
              "      <td>3.867494</td>\n",
              "      <td>206517.516334</td>\n",
              "      <td>3.119259</td>\n",
              "    </tr>\n",
              "    <tr>\n",
              "      <th>std</th>\n",
              "      <td>2.002041</td>\n",
              "      <td>2.137198</td>\n",
              "      <td>12.573097</td>\n",
              "      <td>2160.562872</td>\n",
              "      <td>1081.120079</td>\n",
              "      <td>380.176392</td>\n",
              "      <td>1.886384</td>\n",
              "      <td>115243.906333</td>\n",
              "      <td>12.383559</td>\n",
              "    </tr>\n",
              "    <tr>\n",
              "      <th>min</th>\n",
              "      <td>-124.300000</td>\n",
              "      <td>32.540000</td>\n",
              "      <td>1.000000</td>\n",
              "      <td>2.000000</td>\n",
              "      <td>3.000000</td>\n",
              "      <td>1.000000</td>\n",
              "      <td>0.499900</td>\n",
              "      <td>14999.000000</td>\n",
              "      <td>0.692308</td>\n",
              "    </tr>\n",
              "    <tr>\n",
              "      <th>25%</th>\n",
              "      <td>-121.790000</td>\n",
              "      <td>33.940000</td>\n",
              "      <td>18.000000</td>\n",
              "      <td>1461.000000</td>\n",
              "      <td>793.000000</td>\n",
              "      <td>281.000000</td>\n",
              "      <td>2.566700</td>\n",
              "      <td>119400.000000</td>\n",
              "      <td>2.426824</td>\n",
              "    </tr>\n",
              "    <tr>\n",
              "      <th>50%</th>\n",
              "      <td>-118.505000</td>\n",
              "      <td>34.260000</td>\n",
              "      <td>29.000000</td>\n",
              "      <td>2151.000000</td>\n",
              "      <td>1172.000000</td>\n",
              "      <td>412.000000</td>\n",
              "      <td>3.536450</td>\n",
              "      <td>179500.000000</td>\n",
              "      <td>2.817295</td>\n",
              "    </tr>\n",
              "    <tr>\n",
              "      <th>75%</th>\n",
              "      <td>-118.010000</td>\n",
              "      <td>37.720000</td>\n",
              "      <td>37.000000</td>\n",
              "      <td>3163.000000</td>\n",
              "      <td>1729.000000</td>\n",
              "      <td>607.000000</td>\n",
              "      <td>4.733800</td>\n",
              "      <td>264325.000000</td>\n",
              "      <td>3.276113</td>\n",
              "    </tr>\n",
              "    <tr>\n",
              "      <th>max</th>\n",
              "      <td>-114.310000</td>\n",
              "      <td>41.950000</td>\n",
              "      <td>52.000000</td>\n",
              "      <td>39320.000000</td>\n",
              "      <td>16305.000000</td>\n",
              "      <td>5358.000000</td>\n",
              "      <td>15.000100</td>\n",
              "      <td>500001.000000</td>\n",
              "      <td>1243.333333</td>\n",
              "    </tr>\n",
              "  </tbody>\n",
              "</table>\n",
              "</div>"
            ],
            "text/plain": [
              "          longitude      latitude  ...  median_house_value    avg_people\n",
              "count  14448.000000  14448.000000  ...        14448.000000  14448.000000\n",
              "mean    -119.573272     35.637887  ...       206517.516334      3.119259\n",
              "std        2.002041      2.137198  ...       115243.906333     12.383559\n",
              "min     -124.300000     32.540000  ...        14999.000000      0.692308\n",
              "25%     -121.790000     33.940000  ...       119400.000000      2.426824\n",
              "50%     -118.505000     34.260000  ...       179500.000000      2.817295\n",
              "75%     -118.010000     37.720000  ...       264325.000000      3.276113\n",
              "max     -114.310000     41.950000  ...       500001.000000   1243.333333\n",
              "\n",
              "[8 rows x 9 columns]"
            ]
          },
          "metadata": {},
          "execution_count": 43
        }
      ]
    },
    {
      "cell_type": "code",
      "metadata": {
        "id": "n3qsO95ib_lz"
      },
      "source": [
        "# opción 2 Eliminar las filas\n"
      ],
      "execution_count": null,
      "outputs": []
    },
    {
      "cell_type": "code",
      "metadata": {
        "colab": {
          "base_uri": "https://localhost:8080/",
          "height": 320
        },
        "id": "Wmz5EPLscD6P",
        "outputId": "a364de6d-c04c-4a46-99a7-fe4923de1760"
      },
      "source": [
        "train[~train['total_bedrooms'].isna()].describe()"
      ],
      "execution_count": null,
      "outputs": [
        {
          "output_type": "execute_result",
          "data": {
            "text/html": [
              "<div>\n",
              "<style scoped>\n",
              "    .dataframe tbody tr th:only-of-type {\n",
              "        vertical-align: middle;\n",
              "    }\n",
              "\n",
              "    .dataframe tbody tr th {\n",
              "        vertical-align: top;\n",
              "    }\n",
              "\n",
              "    .dataframe thead th {\n",
              "        text-align: right;\n",
              "    }\n",
              "</style>\n",
              "<table border=\"1\" class=\"dataframe\">\n",
              "  <thead>\n",
              "    <tr style=\"text-align: right;\">\n",
              "      <th></th>\n",
              "      <th>longitude</th>\n",
              "      <th>latitude</th>\n",
              "      <th>housing_median_age</th>\n",
              "      <th>total_rooms</th>\n",
              "      <th>total_bedrooms</th>\n",
              "      <th>population</th>\n",
              "      <th>households</th>\n",
              "      <th>median_income</th>\n",
              "      <th>median_house_value</th>\n",
              "      <th>avg_bed_rooms</th>\n",
              "      <th>avg_people</th>\n",
              "    </tr>\n",
              "  </thead>\n",
              "  <tbody>\n",
              "    <tr>\n",
              "      <th>count</th>\n",
              "      <td>14300.000000</td>\n",
              "      <td>14300.000000</td>\n",
              "      <td>14300.000000</td>\n",
              "      <td>14300.000000</td>\n",
              "      <td>14300.000000</td>\n",
              "      <td>14300.000000</td>\n",
              "      <td>14300.000000</td>\n",
              "      <td>14300.000000</td>\n",
              "      <td>14300.000000</td>\n",
              "      <td>14300.000000</td>\n",
              "      <td>14300.000000</td>\n",
              "    </tr>\n",
              "    <tr>\n",
              "      <th>mean</th>\n",
              "      <td>-119.574228</td>\n",
              "      <td>35.639425</td>\n",
              "      <td>28.621329</td>\n",
              "      <td>2644.308252</td>\n",
              "      <td>539.679231</td>\n",
              "      <td>1422.479301</td>\n",
              "      <td>500.458601</td>\n",
              "      <td>3.867405</td>\n",
              "      <td>206514.494476</td>\n",
              "      <td>1.100786</td>\n",
              "      <td>3.120507</td>\n",
              "    </tr>\n",
              "    <tr>\n",
              "      <th>std</th>\n",
              "      <td>2.001688</td>\n",
              "      <td>2.137880</td>\n",
              "      <td>12.577982</td>\n",
              "      <td>2163.915403</td>\n",
              "      <td>419.502797</td>\n",
              "      <td>1081.169643</td>\n",
              "      <td>379.835913</td>\n",
              "      <td>1.885108</td>\n",
              "      <td>115256.708302</td>\n",
              "      <td>0.528253</td>\n",
              "      <td>12.447242</td>\n",
              "    </tr>\n",
              "    <tr>\n",
              "      <th>min</th>\n",
              "      <td>-124.300000</td>\n",
              "      <td>32.540000</td>\n",
              "      <td>1.000000</td>\n",
              "      <td>2.000000</td>\n",
              "      <td>1.000000</td>\n",
              "      <td>3.000000</td>\n",
              "      <td>1.000000</td>\n",
              "      <td>0.499900</td>\n",
              "      <td>14999.000000</td>\n",
              "      <td>0.375000</td>\n",
              "      <td>0.692308</td>\n",
              "    </tr>\n",
              "    <tr>\n",
              "      <th>25%</th>\n",
              "      <td>-121.790000</td>\n",
              "      <td>33.940000</td>\n",
              "      <td>18.000000</td>\n",
              "      <td>1462.000000</td>\n",
              "      <td>298.000000</td>\n",
              "      <td>794.000000</td>\n",
              "      <td>281.000000</td>\n",
              "      <td>2.566775</td>\n",
              "      <td>119300.000000</td>\n",
              "      <td>1.005857</td>\n",
              "      <td>2.426267</td>\n",
              "    </tr>\n",
              "    <tr>\n",
              "      <th>50%</th>\n",
              "      <td>-118.510000</td>\n",
              "      <td>34.260000</td>\n",
              "      <td>29.000000</td>\n",
              "      <td>2152.000000</td>\n",
              "      <td>438.000000</td>\n",
              "      <td>1173.000000</td>\n",
              "      <td>412.000000</td>\n",
              "      <td>3.538500</td>\n",
              "      <td>179500.000000</td>\n",
              "      <td>1.049409</td>\n",
              "      <td>2.816739</td>\n",
              "    </tr>\n",
              "    <tr>\n",
              "      <th>75%</th>\n",
              "      <td>-118.010000</td>\n",
              "      <td>37.720000</td>\n",
              "      <td>37.000000</td>\n",
              "      <td>3162.000000</td>\n",
              "      <td>652.000000</td>\n",
              "      <td>1727.000000</td>\n",
              "      <td>607.000000</td>\n",
              "      <td>4.733800</td>\n",
              "      <td>264300.000000</td>\n",
              "      <td>1.100228</td>\n",
              "      <td>3.275749</td>\n",
              "    </tr>\n",
              "    <tr>\n",
              "      <th>max</th>\n",
              "      <td>-114.310000</td>\n",
              "      <td>41.950000</td>\n",
              "      <td>52.000000</td>\n",
              "      <td>39320.000000</td>\n",
              "      <td>6210.000000</td>\n",
              "      <td>16305.000000</td>\n",
              "      <td>5358.000000</td>\n",
              "      <td>15.000100</td>\n",
              "      <td>500001.000000</td>\n",
              "      <td>34.066667</td>\n",
              "      <td>1243.333333</td>\n",
              "    </tr>\n",
              "  </tbody>\n",
              "</table>\n",
              "</div>"
            ],
            "text/plain": [
              "          longitude      latitude  ...  avg_bed_rooms    avg_people\n",
              "count  14300.000000  14300.000000  ...   14300.000000  14300.000000\n",
              "mean    -119.574228     35.639425  ...       1.100786      3.120507\n",
              "std        2.001688      2.137880  ...       0.528253     12.447242\n",
              "min     -124.300000     32.540000  ...       0.375000      0.692308\n",
              "25%     -121.790000     33.940000  ...       1.005857      2.426267\n",
              "50%     -118.510000     34.260000  ...       1.049409      2.816739\n",
              "75%     -118.010000     37.720000  ...       1.100228      3.275749\n",
              "max     -114.310000     41.950000  ...      34.066667   1243.333333\n",
              "\n",
              "[8 rows x 11 columns]"
            ]
          },
          "metadata": {},
          "execution_count": 48
        }
      ]
    },
    {
      "cell_type": "code",
      "metadata": {
        "colab": {
          "base_uri": "https://localhost:8080/"
        },
        "id": "i-VI2FdgcZX_",
        "outputId": "a61fb252-91c9-4a40-b0b3-9316306d4c15"
      },
      "source": [
        "# opción 3 . Llenar los datos faltantes\n",
        "# llenar con la media, mediana o moda\n",
        "# llenar con una constante\n",
        "\n",
        "train['total_bedrooms'].fillna(train['total_bedrooms'].median())\n"
      ],
      "execution_count": null,
      "outputs": [
        {
          "output_type": "execute_result",
          "data": {
            "text/plain": [
              "5281      216.0\n",
              "11596     395.0\n",
              "12808     520.0\n",
              "9591      202.0\n",
              "15824     525.0\n",
              "          ...  \n",
              "3714      599.0\n",
              "7409      331.0\n",
              "19709     347.0\n",
              "5787     1465.0\n",
              "14155     614.0\n",
              "Name: total_bedrooms, Length: 14448, dtype: float64"
            ]
          },
          "metadata": {},
          "execution_count": 50
        }
      ]
    },
    {
      "cell_type": "code",
      "metadata": {
        "id": "8PnNK1JZcbYU"
      },
      "source": [
        ""
      ],
      "execution_count": null,
      "outputs": []
    },
    {
      "cell_type": "markdown",
      "metadata": {
        "id": "thfQuA77aR1N"
      },
      "source": [
        "## 5.2 Escalar los datos(dejar las variables todas en la misma escala)"
      ]
    },
    {
      "cell_type": "code",
      "metadata": {
        "id": "aE--WrIxaTXY"
      },
      "source": [
        "# opción 1 Normalizar: Dejar todas las variables rango fijo por lo general 0 y 1\n"
      ],
      "execution_count": null,
      "outputs": []
    },
    {
      "cell_type": "code",
      "metadata": {
        "id": "Yw8wcKqbe5ce"
      },
      "source": [
        "from sklearn.preprocessing import MinMaxScaler"
      ],
      "execution_count": null,
      "outputs": []
    },
    {
      "cell_type": "code",
      "metadata": {
        "id": "s4GAywjVfAfw"
      },
      "source": [
        "scaler = MinMaxScaler()"
      ],
      "execution_count": null,
      "outputs": []
    },
    {
      "cell_type": "code",
      "metadata": {
        "colab": {
          "base_uri": "https://localhost:8080/"
        },
        "id": "XrlNPo6mfCqb",
        "outputId": "416b22d2-88d7-401a-86a1-0dbd5fc6df74"
      },
      "source": [
        "scaler.fit(train[['longitude', 'latitude', 'housing_median_age']])"
      ],
      "execution_count": null,
      "outputs": [
        {
          "output_type": "execute_result",
          "data": {
            "text/plain": [
              "MinMaxScaler(copy=True, feature_range=(0, 1))"
            ]
          },
          "metadata": {},
          "execution_count": 78
        }
      ]
    },
    {
      "cell_type": "code",
      "metadata": {
        "colab": {
          "base_uri": "https://localhost:8080/"
        },
        "id": "g3fgP1xffIzG",
        "outputId": "7ea01aff-fbd0-483c-aa4f-ad82f3c2a2bc"
      },
      "source": [
        "scaler.transform(train[['longitude', 'latitude', 'housing_median_age']]).max(axis=0)"
      ],
      "execution_count": null,
      "outputs": [
        {
          "output_type": "execute_result",
          "data": {
            "text/plain": [
              "array([1., 1., 1.])"
            ]
          },
          "metadata": {},
          "execution_count": 80
        }
      ]
    },
    {
      "cell_type": "code",
      "metadata": {
        "id": "n9XZSBMlfVzz"
      },
      "source": [
        "# opción 2\n",
        "# Estandarizar "
      ],
      "execution_count": null,
      "outputs": []
    },
    {
      "cell_type": "code",
      "metadata": {
        "id": "Gr-dVjZjhxnq"
      },
      "source": [
        "from sklearn.preprocessing import StandardScaler\n"
      ],
      "execution_count": null,
      "outputs": []
    },
    {
      "cell_type": "code",
      "metadata": {
        "id": "31dYQVDWh9aY"
      },
      "source": [
        "scaler = StandardScaler()"
      ],
      "execution_count": null,
      "outputs": []
    },
    {
      "cell_type": "code",
      "metadata": {
        "colab": {
          "base_uri": "https://localhost:8080/"
        },
        "id": "jh2J7Snvh_rP",
        "outputId": "6895b274-654b-4a15-de1c-8c75f1db2d7e"
      },
      "source": [
        "scaler.fit(train[['longitude', 'latitude', 'housing_median_age']])"
      ],
      "execution_count": null,
      "outputs": [
        {
          "output_type": "execute_result",
          "data": {
            "text/plain": [
              "StandardScaler(copy=True, with_mean=True, with_std=True)"
            ]
          },
          "metadata": {},
          "execution_count": 67
        }
      ]
    },
    {
      "cell_type": "code",
      "metadata": {
        "colab": {
          "base_uri": "https://localhost:8080/"
        },
        "id": "YA3VgKbNiBxX",
        "outputId": "eaa6d2d7-7dad-480f-8ce4-68c302bb0033"
      },
      "source": [
        "scaler.transform(train[['longitude', 'latitude', 'housing_median_age']]).min(axis=0)"
      ],
      "execution_count": null,
      "outputs": [
        {
          "output_type": "execute_result",
          "data": {
            "text/plain": [
              "array([-2.361037  , -1.44955896, -2.19758548])"
            ]
          },
          "metadata": {},
          "execution_count": 73
        }
      ]
    },
    {
      "cell_type": "code",
      "metadata": {
        "colab": {
          "base_uri": "https://localhost:8080/"
        },
        "id": "qFkBKhzriNda",
        "outputId": "1fc5c489-315a-4f2a-8db5-eaa27a3baa75"
      },
      "source": [
        "scaler.transform(train[['longitude', 'latitude', 'housing_median_age']]).max(axis=0)"
      ],
      "execution_count": null,
      "outputs": [
        {
          "output_type": "execute_result",
          "data": {
            "text/plain": [
              "array([2.62904458, 2.95355524, 1.85883479])"
            ]
          },
          "metadata": {},
          "execution_count": 74
        }
      ]
    },
    {
      "cell_type": "markdown",
      "metadata": {
        "id": "tzo5JKWmaV_q"
      },
      "source": [
        "#5.3 Convertir variables categóricas en numéricas"
      ]
    },
    {
      "cell_type": "code",
      "metadata": {
        "id": "dn65vQeRab7a"
      },
      "source": [
        ""
      ],
      "execution_count": null,
      "outputs": []
    },
    {
      "cell_type": "code",
      "metadata": {
        "id": "3ge2bXRJZxHJ"
      },
      "source": [
        ""
      ],
      "execution_count": null,
      "outputs": []
    },
    {
      "cell_type": "code",
      "metadata": {
        "id": "5t2vOKXXZfED"
      },
      "source": [
        ""
      ],
      "execution_count": null,
      "outputs": []
    },
    {
      "cell_type": "markdown",
      "metadata": {
        "id": "HzUs1Yz9Zgel"
      },
      "source": [
        "##5.2 "
      ]
    }
  ]
}