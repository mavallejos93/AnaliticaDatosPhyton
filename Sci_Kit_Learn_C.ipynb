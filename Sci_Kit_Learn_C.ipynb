{
  "nbformat": 4,
  "nbformat_minor": 0,
  "metadata": {
    "kernelspec": {
      "display_name": "Python 3",
      "language": "python",
      "name": "python3"
    },
    "language_info": {
      "codemirror_mode": {
        "name": "ipython",
        "version": 3
      },
      "file_extension": ".py",
      "mimetype": "text/x-python",
      "name": "python",
      "nbconvert_exporter": "python",
      "pygments_lexer": "ipython3",
      "version": "3.7.6"
    },
    "colab": {
      "name": "Sci-Kit Learn_C.ipynb",
      "provenance": [],
      "collapsed_sections": [],
      "include_colab_link": true
    }
  },
  "cells": [
    {
      "cell_type": "markdown",
      "metadata": {
        "id": "view-in-github",
        "colab_type": "text"
      },
      "source": [
        "<a href=\"https://colab.research.google.com/github/mavallejos93/AnaliticaDatosPhyton/blob/master/Sci_Kit_Learn_C.ipynb\" target=\"_parent\"><img src=\"https://colab.research.google.com/assets/colab-badge.svg\" alt=\"Open In Colab\"/></a>"
      ]
    },
    {
      "cell_type": "markdown",
      "metadata": {
        "id": "wBi-ndys5bpK"
      },
      "source": [
        "**REGRESIÓN LINEAL** se utiliza para predecir la relación estre 2 variables aplicando una ecuación lineal a los datos observados. 1 de ellas se llama variable dependiente y la variable independiente. La regresion lineal se utiliza habitualmente para el analisis predictivo. La idea general es examinar dos cosas. En primer lugar, el conjunto de variables predictoras hacen el trabajo al predecir una variable dependiente. En segundo lugar, que variables son predictoras significativas de la variable dependiente."
      ]
    },
    {
      "cell_type": "markdown",
      "metadata": {
        "id": "9dZKrETO5bpP"
      },
      "source": [
        "# Ejemplo C: Regresión Lineal\n",
        "\n",
        "$Sci-Kit Learn$ es un poderoso módulo de Python para el aprendizaje de máquina. \n",
        "Contiene funciones de regresión, clasificación, agrupación, selección de modelos y reducción de la dimensionalidad. \n",
        "\n",
        "El ejemplo se utilizará el módulo <a href=\"https://scikit-learn.org/stable/modules/generated/sklearn.linear_model.LinearRegression.html\">sklearn.linear_model</a> que contiene \n",
        "\"métodos destinados a la regresión en los que se espera que el $Target$ Value \n",
        "sea una combinación lineal de las variables de entrada $features$\"."
      ]
    },
    {
      "cell_type": "markdown",
      "metadata": {
        "id": "zRRL8NEy5bpS"
      },
      "source": [
        "## 1.- Se cargan las bibliotecas con sus módulos correspondientes"
      ]
    },
    {
      "cell_type": "code",
      "metadata": {
        "id": "2wf8V_ti5bpT"
      },
      "source": [
        "import numpy as np #biblioteca para operaciones matematicas.\n",
        "import pandas as pd #biblioteca para analisis exploratorio de datos.\n",
        "import seaborn as sns #biblioteca para graficar y analisis estadistico.\n",
        "import matplotlib.pyplot as plt #biblioteca para graficar.\n",
        "from sklearn.linear_model import LinearRegression  #se importa el modelo de regresión lineal.\n",
        "from sklearn.model_selection import train_test_split #metodo que permite dividir el conjunto e datos entre entrenamiento y prueba.\n",
        "from sklearn.metrics import mean_absolute_error, mean_squared_error, r2_score  #metricas que me diran que tan bueno es mi modelo."
      ],
      "execution_count": 4,
      "outputs": []
    },
    {
      "cell_type": "markdown",
      "metadata": {
        "id": "bVxCt7rh5bpU"
      },
      "source": [
        "## 2.- Exporación y preparación del conjunto de datos "
      ]
    },
    {
      "cell_type": "code",
      "metadata": {
        "colab": {
          "base_uri": "https://localhost:8080/",
          "height": 204
        },
        "id": "35omfExL5bpU",
        "outputId": "d5642916-15fc-44f4-fcb8-32807b5d6800"
      },
      "source": [
        "dfRegresion = pd.read_csv('/content/Advertising.csv')\n",
        "del dfRegresion ['Unnamed: 0']\n",
        "dfRegresion.head()"
      ],
      "execution_count": 11,
      "outputs": [
        {
          "output_type": "execute_result",
          "data": {
            "text/html": [
              "<div>\n",
              "<style scoped>\n",
              "    .dataframe tbody tr th:only-of-type {\n",
              "        vertical-align: middle;\n",
              "    }\n",
              "\n",
              "    .dataframe tbody tr th {\n",
              "        vertical-align: top;\n",
              "    }\n",
              "\n",
              "    .dataframe thead th {\n",
              "        text-align: right;\n",
              "    }\n",
              "</style>\n",
              "<table border=\"1\" class=\"dataframe\">\n",
              "  <thead>\n",
              "    <tr style=\"text-align: right;\">\n",
              "      <th></th>\n",
              "      <th>TV</th>\n",
              "      <th>radio</th>\n",
              "      <th>newspaper</th>\n",
              "      <th>sales</th>\n",
              "    </tr>\n",
              "  </thead>\n",
              "  <tbody>\n",
              "    <tr>\n",
              "      <th>0</th>\n",
              "      <td>230.1</td>\n",
              "      <td>37.8</td>\n",
              "      <td>69.2</td>\n",
              "      <td>22.1</td>\n",
              "    </tr>\n",
              "    <tr>\n",
              "      <th>1</th>\n",
              "      <td>44.5</td>\n",
              "      <td>39.3</td>\n",
              "      <td>45.1</td>\n",
              "      <td>10.4</td>\n",
              "    </tr>\n",
              "    <tr>\n",
              "      <th>2</th>\n",
              "      <td>17.2</td>\n",
              "      <td>45.9</td>\n",
              "      <td>69.3</td>\n",
              "      <td>9.3</td>\n",
              "    </tr>\n",
              "    <tr>\n",
              "      <th>3</th>\n",
              "      <td>151.5</td>\n",
              "      <td>41.3</td>\n",
              "      <td>58.5</td>\n",
              "      <td>18.5</td>\n",
              "    </tr>\n",
              "    <tr>\n",
              "      <th>4</th>\n",
              "      <td>180.8</td>\n",
              "      <td>10.8</td>\n",
              "      <td>58.4</td>\n",
              "      <td>12.9</td>\n",
              "    </tr>\n",
              "  </tbody>\n",
              "</table>\n",
              "</div>"
            ],
            "text/plain": [
              "      TV  radio  newspaper  sales\n",
              "0  230.1   37.8       69.2   22.1\n",
              "1   44.5   39.3       45.1   10.4\n",
              "2   17.2   45.9       69.3    9.3\n",
              "3  151.5   41.3       58.5   18.5\n",
              "4  180.8   10.8       58.4   12.9"
            ]
          },
          "metadata": {},
          "execution_count": 11
        }
      ]
    },
    {
      "cell_type": "code",
      "metadata": {
        "id": "Dz5OQUE4MXK2"
      },
      "source": [
        "#Se tiene el conjunto de dato con 3 variables independientes (Publicidad: Televisión, Radio, Periodico) y variable\n",
        "#dependiente que son las ventas (en unción de la publicidad)"
      ],
      "execution_count": null,
      "outputs": []
    },
    {
      "cell_type": "code",
      "metadata": {
        "colab": {
          "base_uri": "https://localhost:8080/"
        },
        "id": "ri8XfiUpMwFE",
        "outputId": "566d08da-d7ed-4d97-d823-a61bfe4150c8"
      },
      "source": [
        "dfRegresion.shape"
      ],
      "execution_count": 12,
      "outputs": [
        {
          "output_type": "execute_result",
          "data": {
            "text/plain": [
              "(200, 4)"
            ]
          },
          "metadata": {},
          "execution_count": 12
        }
      ]
    },
    {
      "cell_type": "markdown",
      "metadata": {
        "id": "OXUaqI-55bpV"
      },
      "source": [
        "## 3.- A continuación se ajustará el modelo de regresión lineal y predecir \n",
        "Para estimar los coeficientes se usará el método de <a href=\"https://www.varsitytutors.com/hotmath/hotmath_help/spanish/topics/line-of-best-fit\">Mínimos Cuadrados.</a>. \n",
        "\n",
        "### X = dataF[\"TV\"] (o variables independientes)\n",
        "### Y = dataF[\"sales\"]\n"
      ]
    },
    {
      "cell_type": "markdown",
      "metadata": {
        "id": "lxxe_e9_5bpW"
      },
      "source": [
        "### Las funciones importantes a tener en cuenta al ajustar un modelo de regresión lineal son:\n",
        "\n",
        "**lm.fit()**     -> Ajusta a un modelo lineal\n",
        "\n",
        "**lm.predict()** -> Predecir **$Y$** usando el modelo lineal con coeficientes estimados\n",
        "\n",
        "**lm.score()**   -> Devuelve el <a href=\"https://www.addlink.es/noticias/minitab/2736-como-interpretar-un-modelo-de-regresion-con-bajo-coeficiente-de-determinacion-r-cuadrado-y-bajos-valores-p\">coeficiente de determinación (R$^2$)</a>. \n",
        " \n",
        " - [Una medida de cuán bien se replican los resultados observados por el modelo, \n",
        "como la proporción de la variación total de los resultados explicada por el modelo.]\n",
        "    \n",
        "\n",
        "### Por hacer\n",
        "- Diagrama de dispersión (X;Y).\n",
        "- Ajuste a modelo lineal\n",
        "- Selección del modelo lineal\n",
        "- Entrenamiento del modelo\n",
        "- Impresión coeficientes e intersepción.\n",
        "- Diagrama de Dispersión."
      ]
    },
    {
      "cell_type": "code",
      "metadata": {
        "colab": {
          "base_uri": "https://localhost:8080/",
          "height": 295
        },
        "id": "FzbjRdTZ5bpY",
        "outputId": "087ab85d-d8b8-4786-de0b-cb602a5bf4b1"
      },
      "source": [
        "#Se procede a hacer el diagrama de dispersion xy es decir la publicidad sobre venta\n",
        "plt.scatter(dfRegresion['TV'], dfRegresion['sales'])\n",
        "plt.title('Volumen de ventas por dinero invertido en publicidad en TV')\n",
        "plt.xlabel('dinero invertido en publicidad TV')\n",
        "plt.ylabel('ventas en $')\n",
        "plt.show()"
      ],
      "execution_count": 26,
      "outputs": [
        {
          "output_type": "display_data",
          "data": {
            "image/png": "[encoded data removed]",
            "text/plain": [
              "<Figure size 432x288 with 1 Axes>"
            ]
          },
          "metadata": {
            "needs_background": "light"
          }
        }
      ]
    },
    {
      "cell_type": "code",
      "metadata": {
        "id": "PUq5pU9A5bpZ"
      },
      "source": [
        "#Se requiere etiquetar la variable X como la publicidad TV\n",
        "#Se requiere etiquetar la variable Y como las ventas\n",
        "\n",
        "X=dfRegresion['TV'].values.reshape(-1,1)\n",
        "y=dfRegresion['sales'].values.reshape(-1,1)"
      ],
      "execution_count": 17,
      "outputs": []
    },
    {
      "cell_type": "code",
      "metadata": {
        "id": "cg2AmhdU5bpZ"
      },
      "source": [
        "# Selección a modelo lineal\n",
        "modelo = LinearRegression()"
      ],
      "execution_count": 18,
      "outputs": []
    },
    {
      "cell_type": "code",
      "metadata": {
        "colab": {
          "base_uri": "https://localhost:8080/"
        },
        "id": "TrI3GKkT5bpa",
        "outputId": "95b2abd6-df58-4054-b3ce-6e504e813cc7"
      },
      "source": [
        "# Entrenar el model0\n",
        "modelo.fit(X,y)\n",
        "y_predict=modelo.predict(X)\n",
        "#B0 es el intersecto y B1 es la pendiente\n",
        "B0, B1 = modelo.intercept_[0], modelo.coef_[0][0]\n",
        "B0, B1"
      ],
      "execution_count": 20,
      "outputs": [
        {
          "output_type": "execute_result",
          "data": {
            "text/plain": [
              "(7.032593549127695, 0.04753664043301975)"
            ]
          },
          "metadata": {},
          "execution_count": 20
        }
      ]
    },
    {
      "cell_type": "code",
      "metadata": {
        "colab": {
          "base_uri": "https://localhost:8080/",
          "height": 295
        },
        "id": "ZGmhIpKi5bpb",
        "outputId": "81f9acd1-7188-4388-c142-2c06d168b185"
      },
      "source": [
        "# Impresión de intercepción, coeficientes y numero de coeficientes\n",
        "plt.scatter(dfRegresion['TV'], dfRegresion['sales'])\n",
        "plt.plot(dfRegresion['TV'], y_predict, c='orange', linewidth=3)\n",
        "plt.title('grafica de modelo de mejor ajute')\n",
        "plt.xlabel('dinero invertido en publicidad TV')\n",
        "plt.ylabel('ventas en $')\n",
        "\n",
        "plt.show()"
      ],
      "execution_count": 25,
      "outputs": [
        {
          "output_type": "display_data",
          "data": {
            "image/png": "[encoded data removed]",
            "text/plain": [
              "<Figure size 432x288 with 1 Axes>"
            ]
          },
          "metadata": {
            "needs_background": "light"
          }
        }
      ]
    },
    {
      "cell_type": "code",
      "metadata": {
        "id": "rObbTzsN5bpc"
      },
      "source": [
        ""
      ],
      "execution_count": null,
      "outputs": []
    },
    {
      "cell_type": "markdown",
      "metadata": {
        "id": "i4yGaC9S5bpd"
      },
      "source": [
        "## 4.-  Predicción \n",
        "\n",
        "- Se calcula la predicción $\\hat{Y}_i$ (.predict)\n",
        "- Diagrama de dispersión "
      ]
    },
    {
      "cell_type": "code",
      "metadata": {
        "colab": {
          "base_uri": "https://localhost:8080/"
        },
        "id": "gNzYgiL75bpe",
        "outputId": "10fb4a5e-4d17-4234-d0a5-82a676058b1a"
      },
      "source": [
        "# Make a prediction\n",
        "Xnew = [[250]]\n",
        "print('si se invierte 250 en publicidad TV se predice {}', modelo.predict(Xnew))"
      ],
      "execution_count": 27,
      "outputs": [
        {
          "output_type": "stream",
          "name": "stdout",
          "text": [
            "si se invierte 250 en publicidad TV se predice {} [[18.91675366]]\n"
          ]
        }
      ]
    },
    {
      "cell_type": "markdown",
      "metadata": {
        "id": "IfB43Sj25bpf"
      },
      "source": [
        "## 5.- Se calcula el <a href=https://acolita.com/que-es-el-error-cuadratico-medio-rmse/>Error Cuadrático Medio y la presición del modelo</a>.\n",
        "\n",
        "El Root Mean Square Error (RMSE) es la desviación estándar de los residuos (errores de predicción). Los residuos son una medida de cuán lejos de la línea de regresión están los puntos de datos; RMSE es una medida de cuán extendidos están estos residuos. En otras palabras, presenta cuán concentrados están los datos alrededor de la línea de mejor ajuste.\n",
        "\n",
        "- Entre el Real y la predicción \n",
        "- modelo.score()"
      ]
    },
    {
      "cell_type": "code",
      "metadata": {
        "id": "0CyhfNx-5bpg"
      },
      "source": [
        ""
      ],
      "execution_count": null,
      "outputs": []
    },
    {
      "cell_type": "markdown",
      "metadata": {
        "id": "wv5iaD-w5bph"
      },
      "source": [
        "## 6.- Resumen\n",
        "- a) Estudiar y preparar los datos\n",
        "- b) Seleccionar el modelo\n",
        "- c) Entrenar con los datos de entrenamiento (es decir, el algoritmo de aprendizaje buscó los valores de los parámetros del modelo que minimizan una función de costo).\n",
        "- d) Aplicar el modelo para hacer predicciones sobre nuevos casos ($inferencia$)"
      ]
    },
    {
      "cell_type": "code",
      "metadata": {
        "id": "ycX_fH9x5bpi"
      },
      "source": [
        ""
      ],
      "execution_count": null,
      "outputs": []
    }
  ]
}