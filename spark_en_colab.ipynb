{
  "nbformat": 4,
  "nbformat_minor": 0,
  "metadata": {
    "colab": {
      "name": "spark-en-colab.ipynb",
      "provenance": [],
      "collapsed_sections": [],
      "include_colab_link": true
    },
    "kernelspec": {
      "name": "python3",
      "display_name": "Python 3"
    }
  },
  "cells": [
    {
      "cell_type": "markdown",
      "metadata": {
        "id": "view-in-github",
        "colab_type": "text"
      },
      "source": [
        "<a href=\"https://colab.research.google.com/github/mavallejos93/AnaliticaDatosPhyton/blob/master/spark_en_colab.ipynb\" target=\"_parent\"><img src=\"https://colab.research.google.com/assets/colab-badge.svg\" alt=\"Open In Colab\"/></a>"
      ]
    },
    {
      "cell_type": "code",
      "metadata": {
        "colab": {
          "base_uri": "https://localhost:8080/"
        },
        "id": "DJliWmgQwXt5",
        "outputId": "4ab52227-6ebe-434f-d8cf-e6cf41e79481"
      },
      "source": [
        "!pip install pyspark"
      ],
      "execution_count": 1,
      "outputs": [
        {
          "output_type": "stream",
          "name": "stdout",
          "text": [
            "Collecting pyspark\n",
            "  Downloading pyspark-3.1.2.tar.gz (212.4 MB)\n",
            "\u001b[K     |████████████████████████████████| 212.4 MB 66 kB/s \n",
            "\u001b[?25hCollecting py4j==0.10.9\n",
            "  Downloading py4j-0.10.9-py2.py3-none-any.whl (198 kB)\n",
            "\u001b[K     |████████████████████████████████| 198 kB 27.9 MB/s \n",
            "\u001b[?25hBuilding wheels for collected packages: pyspark\n",
            "  Building wheel for pyspark (setup.py) ... \u001b[?25l\u001b[?25hdone\n",
            "  Created wheel for pyspark: filename=pyspark-3.1.2-py2.py3-none-any.whl size=212880768 sha256=6c82e49418e58f296ee19792f1e1d337cdd44d147471c600f95abbd02010924c\n",
            "  Stored in directory: /root/.cache/pip/wheels/a5/0a/c1/9561f6fecb759579a7d863dcd846daaa95f598744e71b02c77\n",
            "Successfully built pyspark\n",
            "Installing collected packages: py4j, pyspark\n",
            "Successfully installed py4j-0.10.9 pyspark-3.1.2\n"
          ]
        }
      ]
    },
    {
      "cell_type": "code",
      "metadata": {
        "id": "1x3V-NZXpemw"
      },
      "source": [
        "from pyspark.sql import SparkSession\n",
        "\n",
        "spark = SparkSession.builder.master(\"local[*]\").getOrCreate()"
      ],
      "execution_count": 2,
      "outputs": []
    },
    {
      "cell_type": "code",
      "metadata": {
        "id": "zY7MBNH78D5r",
        "colab": {
          "base_uri": "https://localhost:8080/"
        },
        "outputId": "ff521313-beda-4711-b0a3-ff9de1e8be29"
      },
      "source": [
        "!wget https://raw.githubusercontent.com/camilousa/datasets/master/german_credit_data.csv"
      ],
      "execution_count": 3,
      "outputs": [
        {
          "output_type": "stream",
          "name": "stdout",
          "text": [
            "--2021-09-29 02:48:14--  https://raw.githubusercontent.com/camilousa/datasets/master/german_credit_data.csv\n",
            "Resolving raw.githubusercontent.com (raw.githubusercontent.com)... 185.199.109.133, 185.199.111.133, 185.199.108.133, ...\n",
            "Connecting to raw.githubusercontent.com (raw.githubusercontent.com)|185.199.109.133|:443... connected.\n",
            "HTTP request sent, awaiting response... 200 OK\n",
            "Length: 53393 (52K) [text/plain]\n",
            "Saving to: ‘german_credit_data.csv’\n",
            "\n",
            "german_credit_data. 100%[===================>]  52.14K  --.-KB/s    in 0.02s   \n",
            "\n",
            "2021-09-29 02:48:14 (2.46 MB/s) - ‘german_credit_data.csv’ saved [53393/53393]\n",
            "\n"
          ]
        }
      ]
    },
    {
      "cell_type": "code",
      "metadata": {
        "id": "1fYbBXtuWsIv"
      },
      "source": [
        "from pyspark.sql import SQLContext"
      ],
      "execution_count": 4,
      "outputs": []
    },
    {
      "cell_type": "code",
      "metadata": {
        "id": "gtlmUYmvW8YD"
      },
      "source": [
        "sqlContext = SQLContext(spark)"
      ],
      "execution_count": 5,
      "outputs": []
    },
    {
      "cell_type": "code",
      "metadata": {
        "id": "EjzaePlUXAxL"
      },
      "source": [
        "df = sqlContext.read.csv(\"german_credit_data.csv\", header=True, inferSchema=True)"
      ],
      "execution_count": 6,
      "outputs": []
    },
    {
      "cell_type": "code",
      "metadata": {
        "colab": {
          "base_uri": "https://localhost:8080/"
        },
        "id": "Qa9BrcbIXNcE",
        "outputId": "cc3f6e1e-4653-4339-d5ab-c06e1e77821b"
      },
      "source": [
        "df.show(40)"
      ],
      "execution_count": 7,
      "outputs": [
        {
          "output_type": "stream",
          "name": "stdout",
          "text": [
            "+---+---+------+---+-------+---------------+----------------+-------------+--------+-------------------+----+\n",
            "|_c0|Age|   Sex|Job|Housing|Saving accounts|Checking account|Credit amount|Duration|            Purpose|Risk|\n",
            "+---+---+------+---+-------+---------------+----------------+-------------+--------+-------------------+----+\n",
            "|  0| 67|  male|  2|    own|             NA|          little|         1169|       6|           radio/TV|good|\n",
            "|  1| 22|female|  2|    own|         little|        moderate|         5951|      48|           radio/TV| bad|\n",
            "|  2| 49|  male|  1|    own|         little|              NA|         2096|      12|          education|good|\n",
            "|  3| 45|  male|  2|   free|         little|          little|         7882|      42|furniture/equipment|good|\n",
            "|  4| 53|  male|  2|   free|         little|          little|         4870|      24|                car| bad|\n",
            "|  5| 35|  male|  1|   free|             NA|              NA|         9055|      36|          education|good|\n",
            "|  6| 53|  male|  2|    own|     quite rich|              NA|         2835|      24|furniture/equipment|good|\n",
            "|  7| 35|  male|  3|   rent|         little|        moderate|         6948|      36|                car|good|\n",
            "|  8| 61|  male|  1|    own|           rich|              NA|         3059|      12|           radio/TV|good|\n",
            "|  9| 28|  male|  3|    own|         little|        moderate|         5234|      30|                car| bad|\n",
            "| 10| 25|female|  2|   rent|         little|        moderate|         1295|      12|                car| bad|\n",
            "| 11| 24|female|  2|   rent|         little|          little|         4308|      48|           business| bad|\n",
            "| 12| 22|female|  2|    own|         little|        moderate|         1567|      12|           radio/TV|good|\n",
            "| 13| 60|  male|  1|    own|         little|          little|         1199|      24|                car| bad|\n",
            "| 14| 28|female|  2|   rent|         little|          little|         1403|      15|                car|good|\n",
            "| 15| 32|female|  1|    own|       moderate|          little|         1282|      24|           radio/TV| bad|\n",
            "| 16| 53|  male|  2|    own|             NA|              NA|         2424|      24|           radio/TV|good|\n",
            "| 17| 25|  male|  2|    own|             NA|          little|         8072|      30|           business|good|\n",
            "| 18| 44|female|  3|   free|         little|        moderate|        12579|      24|                car| bad|\n",
            "| 19| 31|  male|  2|    own|     quite rich|              NA|         3430|      24|           radio/TV|good|\n",
            "| 20| 48|  male|  2|    own|         little|              NA|         2134|       9|                car|good|\n",
            "| 21| 44|  male|  2|   rent|     quite rich|          little|         2647|       6|           radio/TV|good|\n",
            "| 22| 48|  male|  1|   rent|         little|          little|         2241|      10|                car|good|\n",
            "| 23| 44|  male|  2|    own|       moderate|        moderate|         1804|      12|                car|good|\n",
            "| 24| 26|  male|  2|    own|             NA|              NA|         2069|      10|furniture/equipment|good|\n",
            "| 25| 36|  male|  1|    own|         little|          little|         1374|       6|furniture/equipment|good|\n",
            "| 26| 39|  male|  1|    own|         little|              NA|          426|       6|           radio/TV|good|\n",
            "| 27| 42|female|  2|   rent|           rich|            rich|          409|      12|           radio/TV|good|\n",
            "| 28| 34|  male|  2|    own|         little|        moderate|         2415|       7|           radio/TV|good|\n",
            "| 29| 63|  male|  2|    own|         little|          little|         6836|      60|           business| bad|\n",
            "| 30| 36|  male|  2|    own|           rich|        moderate|         1913|      18|           business|good|\n",
            "| 31| 27|  male|  2|    own|         little|          little|         4020|      24|furniture/equipment|good|\n",
            "| 32| 30|  male|  2|    own|       moderate|        moderate|         5866|      18|                car|good|\n",
            "| 33| 57|  male|  1|   rent|             NA|              NA|         1264|      12|           business|good|\n",
            "| 34| 33|female|  3|    own|         little|            rich|         1474|      12|furniture/equipment|good|\n",
            "| 35| 25|  male|  1|    own|         little|        moderate|         4746|      45|           radio/TV| bad|\n",
            "| 36| 31|  male|  2|   free|         little|              NA|         6110|      48|          education|good|\n",
            "| 37| 37|  male|  2|    own|         little|            rich|         2100|      18|           radio/TV| bad|\n",
            "| 38| 37|  male|  2|    own|         little|            rich|         1225|      10|domestic appliances|good|\n",
            "| 39| 24|  male|  2|    own|         little|        moderate|          458|       9|           radio/TV|good|\n",
            "+---+---+------+---+-------+---------------+----------------+-------------+--------+-------------------+----+\n",
            "only showing top 40 rows\n",
            "\n"
          ]
        }
      ]
    },
    {
      "cell_type": "code",
      "metadata": {
        "id": "RA6itPeVZTpj"
      },
      "source": [
        ""
      ],
      "execution_count": 7,
      "outputs": []
    },
    {
      "cell_type": "markdown",
      "metadata": {
        "id": "regIxOYUZUEo"
      },
      "source": [
        "## Como convertir de spark a pandas"
      ]
    },
    {
      "cell_type": "code",
      "metadata": {
        "id": "zEhVJg-MX09v"
      },
      "source": [
        "df3 = df.select(\"Age\", \"Sex\", \"Job\", \"Risk\").where(\"Risk='good'\")"
      ],
      "execution_count": 8,
      "outputs": []
    },
    {
      "cell_type": "code",
      "metadata": {
        "id": "d951fiCjYcum"
      },
      "source": [
        "import pandas as pd"
      ],
      "execution_count": 9,
      "outputs": []
    },
    {
      "cell_type": "code",
      "metadata": {
        "id": "xq7Q76VqYthj"
      },
      "source": [
        "df_pandas = df3.toPandas()"
      ],
      "execution_count": 10,
      "outputs": []
    },
    {
      "cell_type": "code",
      "metadata": {
        "colab": {
          "base_uri": "https://localhost:8080/",
          "height": 424
        },
        "id": "VomjSFsLYyAt",
        "outputId": "5859d482-d6a4-4100-8d59-a09bb226e06c"
      },
      "source": [
        "df_pandas"
      ],
      "execution_count": 11,
      "outputs": [
        {
          "output_type": "execute_result",
          "data": {
            "text/html": [
              "<div>\n",
              "<style scoped>\n",
              "    .dataframe tbody tr th:only-of-type {\n",
              "        vertical-align: middle;\n",
              "    }\n",
              "\n",
              "    .dataframe tbody tr th {\n",
              "        vertical-align: top;\n",
              "    }\n",
              "\n",
              "    .dataframe thead th {\n",
              "        text-align: right;\n",
              "    }\n",
              "</style>\n",
              "<table border=\"1\" class=\"dataframe\">\n",
              "  <thead>\n",
              "    <tr style=\"text-align: right;\">\n",
              "      <th></th>\n",
              "      <th>Age</th>\n",
              "      <th>Sex</th>\n",
              "      <th>Job</th>\n",
              "      <th>Risk</th>\n",
              "    </tr>\n",
              "  </thead>\n",
              "  <tbody>\n",
              "    <tr>\n",
              "      <th>0</th>\n",
              "      <td>67</td>\n",
              "      <td>male</td>\n",
              "      <td>2</td>\n",
              "      <td>good</td>\n",
              "    </tr>\n",
              "    <tr>\n",
              "      <th>1</th>\n",
              "      <td>49</td>\n",
              "      <td>male</td>\n",
              "      <td>1</td>\n",
              "      <td>good</td>\n",
              "    </tr>\n",
              "    <tr>\n",
              "      <th>2</th>\n",
              "      <td>45</td>\n",
              "      <td>male</td>\n",
              "      <td>2</td>\n",
              "      <td>good</td>\n",
              "    </tr>\n",
              "    <tr>\n",
              "      <th>3</th>\n",
              "      <td>35</td>\n",
              "      <td>male</td>\n",
              "      <td>1</td>\n",
              "      <td>good</td>\n",
              "    </tr>\n",
              "    <tr>\n",
              "      <th>4</th>\n",
              "      <td>53</td>\n",
              "      <td>male</td>\n",
              "      <td>2</td>\n",
              "      <td>good</td>\n",
              "    </tr>\n",
              "    <tr>\n",
              "      <th>...</th>\n",
              "      <td>...</td>\n",
              "      <td>...</td>\n",
              "      <td>...</td>\n",
              "      <td>...</td>\n",
              "    </tr>\n",
              "    <tr>\n",
              "      <th>695</th>\n",
              "      <td>50</td>\n",
              "      <td>male</td>\n",
              "      <td>2</td>\n",
              "      <td>good</td>\n",
              "    </tr>\n",
              "    <tr>\n",
              "      <th>696</th>\n",
              "      <td>31</td>\n",
              "      <td>female</td>\n",
              "      <td>1</td>\n",
              "      <td>good</td>\n",
              "    </tr>\n",
              "    <tr>\n",
              "      <th>697</th>\n",
              "      <td>40</td>\n",
              "      <td>male</td>\n",
              "      <td>3</td>\n",
              "      <td>good</td>\n",
              "    </tr>\n",
              "    <tr>\n",
              "      <th>698</th>\n",
              "      <td>38</td>\n",
              "      <td>male</td>\n",
              "      <td>2</td>\n",
              "      <td>good</td>\n",
              "    </tr>\n",
              "    <tr>\n",
              "      <th>699</th>\n",
              "      <td>27</td>\n",
              "      <td>male</td>\n",
              "      <td>2</td>\n",
              "      <td>good</td>\n",
              "    </tr>\n",
              "  </tbody>\n",
              "</table>\n",
              "<p>700 rows × 4 columns</p>\n",
              "</div>"
            ],
            "text/plain": [
              "     Age     Sex  Job  Risk\n",
              "0     67    male    2  good\n",
              "1     49    male    1  good\n",
              "2     45    male    2  good\n",
              "3     35    male    1  good\n",
              "4     53    male    2  good\n",
              "..   ...     ...  ...   ...\n",
              "695   50    male    2  good\n",
              "696   31  female    1  good\n",
              "697   40    male    3  good\n",
              "698   38    male    2  good\n",
              "699   27    male    2  good\n",
              "\n",
              "[700 rows x 4 columns]"
            ]
          },
          "metadata": {},
          "execution_count": 11
        }
      ]
    },
    {
      "cell_type": "code",
      "metadata": {
        "id": "yk4zFo33ZcF6",
        "colab": {
          "base_uri": "https://localhost:8080/"
        },
        "outputId": "ed46d691-ce2f-4971-edfb-10cce17587fe"
      },
      "source": [
        "df"
      ],
      "execution_count": 12,
      "outputs": [
        {
          "output_type": "execute_result",
          "data": {
            "text/plain": [
              "DataFrame[_c0: int, Age: int, Sex: string, Job: int, Housing: string, Saving accounts: string, Checking account: string, Credit amount: int, Duration: int, Purpose: string, Risk: string]"
            ]
          },
          "metadata": {},
          "execution_count": 12
        }
      ]
    },
    {
      "cell_type": "markdown",
      "metadata": {
        "id": "kPxewGN5Zds6"
      },
      "source": [
        "Ejemplos de consultas en spark"
      ]
    },
    {
      "cell_type": "code",
      "metadata": {
        "colab": {
          "base_uri": "https://localhost:8080/"
        },
        "id": "7-haLBNIZfk6",
        "outputId": "12116544-5484-485e-c830-6c498b801f6d"
      },
      "source": [
        "df.where(\"Sex='male'\").count()"
      ],
      "execution_count": 13,
      "outputs": [
        {
          "output_type": "execute_result",
          "data": {
            "text/plain": [
              "690"
            ]
          },
          "metadata": {},
          "execution_count": 13
        }
      ]
    },
    {
      "cell_type": "code",
      "metadata": {
        "colab": {
          "base_uri": "https://localhost:8080/"
        },
        "id": "Bfjc4Ec1Znv2",
        "outputId": "115f86a2-a0d0-4a41-fb1d-3f3b44afe279"
      },
      "source": [
        "df.where(\"Sex='female'\").count()"
      ],
      "execution_count": 14,
      "outputs": [
        {
          "output_type": "execute_result",
          "data": {
            "text/plain": [
              "310"
            ]
          },
          "metadata": {},
          "execution_count": 14
        }
      ]
    },
    {
      "cell_type": "code",
      "metadata": {
        "colab": {
          "base_uri": "https://localhost:8080/"
        },
        "id": "wDgzgoFcZuXR",
        "outputId": "16a53572-7c76-4510-beee-c6ba8683d73e"
      },
      "source": [
        "df.groupby(\"Sex\").count().show()"
      ],
      "execution_count": 15,
      "outputs": [
        {
          "output_type": "stream",
          "name": "stdout",
          "text": [
            "+------+-----+\n",
            "|   Sex|count|\n",
            "+------+-----+\n",
            "|female|  310|\n",
            "|  male|  690|\n",
            "+------+-----+\n",
            "\n"
          ]
        }
      ]
    },
    {
      "cell_type": "code",
      "metadata": {
        "colab": {
          "base_uri": "https://localhost:8080/"
        },
        "id": "8p_dYmRZaJrb",
        "outputId": "aebcbfbb-e9fb-47cc-bffe-2641f50494a0"
      },
      "source": [
        "df.groupby(\"Risk\").count().show()"
      ],
      "execution_count": 16,
      "outputs": [
        {
          "output_type": "stream",
          "name": "stdout",
          "text": [
            "+----+-----+\n",
            "|Risk|count|\n",
            "+----+-----+\n",
            "| bad|  300|\n",
            "|good|  700|\n",
            "+----+-----+\n",
            "\n"
          ]
        }
      ]
    },
    {
      "cell_type": "code",
      "metadata": {
        "colab": {
          "base_uri": "https://localhost:8080/"
        },
        "id": "OlMKMbEOaQz5",
        "outputId": "45053e04-169b-426d-8203-4d3a396ec278"
      },
      "source": [
        "df.groupby(\"Sex\", \"Risk\").count().show()"
      ],
      "execution_count": 17,
      "outputs": [
        {
          "output_type": "stream",
          "name": "stdout",
          "text": [
            "+------+----+-----+\n",
            "|   Sex|Risk|count|\n",
            "+------+----+-----+\n",
            "|  male| bad|  191|\n",
            "|  male|good|  499|\n",
            "|female| bad|  109|\n",
            "|female|good|  201|\n",
            "+------+----+-----+\n",
            "\n"
          ]
        }
      ]
    },
    {
      "cell_type": "code",
      "metadata": {
        "colab": {
          "base_uri": "https://localhost:8080/"
        },
        "id": "_vV9Jf9Zam0Q",
        "outputId": "7df8cfd8-d050-49ea-8fb3-ba06359b035e"
      },
      "source": [
        "100 * 191/(191+499)"
      ],
      "execution_count": 18,
      "outputs": [
        {
          "output_type": "execute_result",
          "data": {
            "text/plain": [
              "27.681159420289855"
            ]
          },
          "metadata": {},
          "execution_count": 18
        }
      ]
    },
    {
      "cell_type": "code",
      "metadata": {
        "colab": {
          "base_uri": "https://localhost:8080/"
        },
        "id": "MvAWGBi9aq2E",
        "outputId": "3168aa18-076a-418d-9fce-172fcbdf0e6e"
      },
      "source": [
        "100 * 109/(109+201)"
      ],
      "execution_count": 19,
      "outputs": [
        {
          "output_type": "execute_result",
          "data": {
            "text/plain": [
              "35.16129032258065"
            ]
          },
          "metadata": {},
          "execution_count": 19
        }
      ]
    },
    {
      "cell_type": "code",
      "metadata": {
        "colab": {
          "base_uri": "https://localhost:8080/"
        },
        "id": "WUIk5Q5ta-xT",
        "outputId": "562ec20d-66b2-4393-f9cf-f73a04accde2"
      },
      "source": [
        "df.groupby(\"Sex\").sum(\"Credit amount\").show()"
      ],
      "execution_count": 20,
      "outputs": [
        {
          "output_type": "stream",
          "name": "stdout",
          "text": [
            "+------+------------------+\n",
            "|   Sex|sum(Credit amount)|\n",
            "+------+------------------+\n",
            "|female|            892110|\n",
            "|  male|           2379148|\n",
            "+------+------------------+\n",
            "\n"
          ]
        }
      ]
    },
    {
      "cell_type": "code",
      "metadata": {
        "colab": {
          "base_uri": "https://localhost:8080/"
        },
        "id": "i1ChwKXybVW8",
        "outputId": "13c1f7a8-59b0-4ca6-8b0c-2811a6fd2904"
      },
      "source": [
        "df.groupby(\"Sex\").avg(\"Credit amount\").show()"
      ],
      "execution_count": 21,
      "outputs": [
        {
          "output_type": "stream",
          "name": "stdout",
          "text": [
            "+------+------------------+\n",
            "|   Sex|avg(Credit amount)|\n",
            "+------+------------------+\n",
            "|female|2877.7741935483873|\n",
            "|  male| 3448.040579710145|\n",
            "+------+------------------+\n",
            "\n"
          ]
        }
      ]
    },
    {
      "cell_type": "code",
      "metadata": {
        "id": "XfH3jd6-bktY",
        "colab": {
          "base_uri": "https://localhost:8080/"
        },
        "outputId": "6cc703f1-eeb8-4534-9d4e-835c62720b19"
      },
      "source": [
        "df.groupby(\"Risk\").sum(\"Credit amount\").show()"
      ],
      "execution_count": 22,
      "outputs": [
        {
          "output_type": "stream",
          "name": "stdout",
          "text": [
            "+----+------------------+\n",
            "|Risk|sum(Credit amount)|\n",
            "+----+------------------+\n",
            "| bad|           1181438|\n",
            "|good|           2089820|\n",
            "+----+------------------+\n",
            "\n"
          ]
        }
      ]
    },
    {
      "cell_type": "code",
      "metadata": {
        "id": "qeKNIZWXd0s7",
        "outputId": "59cd68a2-04f9-455a-9c9e-c0099fffce35",
        "colab": {
          "base_uri": "https://localhost:8080/"
        }
      },
      "source": [
        "df.groupby(\"Sex\", \"Purpose\").count().orderBy(\"Sex\").show()"
      ],
      "execution_count": 23,
      "outputs": [
        {
          "output_type": "stream",
          "name": "stdout",
          "text": [
            "+------+-------------------+-----+\n",
            "|   Sex|            Purpose|count|\n",
            "+------+-------------------+-----+\n",
            "|female|furniture/equipment|   74|\n",
            "|female|            repairs|    5|\n",
            "|female|          education|   24|\n",
            "|female|           business|   19|\n",
            "|female|    vacation/others|    3|\n",
            "|female|domestic appliances|    6|\n",
            "|female|           radio/TV|   85|\n",
            "|female|                car|   94|\n",
            "|  male|furniture/equipment|  107|\n",
            "|  male|                car|  243|\n",
            "|  male|           business|   78|\n",
            "|  male|            repairs|   17|\n",
            "|  male|    vacation/others|    9|\n",
            "|  male|          education|   35|\n",
            "|  male|           radio/TV|  195|\n",
            "|  male|domestic appliances|    6|\n",
            "+------+-------------------+-----+\n",
            "\n"
          ]
        }
      ]
    }
  ]
}